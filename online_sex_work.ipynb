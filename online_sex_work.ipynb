{
  "nbformat": 4,
  "nbformat_minor": 0,
  "metadata": {
    "colab": {
      "provenance": [],
      "collapsed_sections": [],
      "include_colab_link": true
    },
    "kernelspec": {
      "name": "python3",
      "display_name": "Python 3"
    },
    "language_info": {
      "name": "python"
    }
  },
  "cells": [
    {
      "cell_type": "markdown",
      "metadata": {
        "id": "view-in-github",
        "colab_type": "text"
      },
      "source": [
        "<a href=\"https://colab.research.google.com/github/alexsasik/for-dz/blob/main/online_sex_work.ipynb\" target=\"_parent\"><img src=\"https://colab.research.google.com/assets/colab-badge.svg\" alt=\"Open In Colab\"/></a>"
      ]
    },
    {
      "cell_type": "markdown",
      "source": [
        "## **Исследовательская задача**\n",
        "\n",
        "Датасет, выбранный для исследования, представляет собой большое количество данных с форума для взрослых. Однако сами создатели написали в своей работе, что основная исследовательская задача не выполнена. Только 78 исследуемым был рассчитан риск их вовлечения в оказание сексуальных услуг онлайн. \n",
        "\n",
        "Следовательно, нашей основной задачей становится выявление факторов, влияющих на риск, на основе 78 уже исследованных людей и расчет риска для неисследованных. Кроме того, датасет был с технической ошибкой, вследствие которой после собранных данных шло огромное количество пустых мест. Поэтому для начала необходимо убрать их, и начать работать уже с чистым датасетом.\n",
        "\n",
        "## **Переменные:**\n",
        "\n",
        "*   **User_ID** - идентификационный номер пользователя на форуме\n",
        "*   **Gender** - пол пользователя, male/female\n",
        "*   **Age** - возраст пользователя в годах\n",
        "*   **Location** - Местоположение пользователя, в целях конфиденциальности показано как название точки (A, B и т.д.)\n",
        "*   **Verification** - является пользователь верифицированнным на форуме или нет\n",
        "*   **Sexual_orientation** - сексуальная ориентация пользователя (гетеро-, би- или гомосексуальная)\n",
        "*   **Sexual_polarity** - сексуальная полярность пользователя\n",
        "*   **Looking_for** - предпочтения пользователя в выборе пары\n",
        "*   **Points_Rank** - количество очков на форуме\n",
        "*   **Last_login** - время последнего пребывания в сети с момента обращения к статистике форума\n",
        "*   **Member_since** - дата в формате ДД.ММ.ГГГГ, в которую пользователь зарегистрировался на форуме\n",
        "*   **Number_of_comments_in_public_forum** - число комментариев, оставленных пользователем\n",
        "*   **Time_spent_chatting_H:M** - время, проведенное за общением на форуме в формате Часы:Минуты\n",
        "*   **Number_of_adbertisments_posted** - количество размещенных рекламных сообщений\n",
        "*   **Number_of_offline_meetings_attended** - количество посещенных оффлайн-свиданий после общения на форуме\n",
        "*   **Profile_pictures** - количество фотографий в профиле пользователя\n",
        "*   **Friends_ID_list** - список идентификационных номеров друзей пользователя с разделителем в виде запятой\n",
        "*   **Risk** - риск быть вовлеченным в предоставление сексуальных услуг онлайн\n",
        "\n",
        "\n",
        "\n",
        "\n",
        "\n",
        "\n",
        "\n",
        "\n",
        "\n"
      ],
      "metadata": {
        "id": "eUpZhlYjvLxf"
      }
    },
    {
      "cell_type": "markdown",
      "source": [
        "## **Очистка датасета от пустых значений**"
      ],
      "metadata": {
        "id": "VUZ6rToLBDXz"
      }
    },
    {
      "cell_type": "code",
      "execution_count": null,
      "metadata": {
        "id": "sNDTxVQelwn8"
      },
      "outputs": [],
      "source": [
        "import pandas as pd"
      ]
    },
    {
      "cell_type": "code",
      "source": [
        "data = pd.read_csv('https://github.com/alexsasik/for-dz/raw/main/online_sex_work.csv')\n",
        "data"
      ],
      "metadata": {
        "colab": {
          "base_uri": "https://localhost:8080/",
          "height": 523
        },
        "id": "CXg2zUlNyuRy",
        "outputId": "eee87685-31ab-4043-a141-1261e5c11704"
      },
      "execution_count": null,
      "outputs": [
        {
          "output_type": "stream",
          "name": "stderr",
          "text": [
            "/usr/local/lib/python3.7/dist-packages/IPython/core/interactiveshell.py:3326: DtypeWarning: Columns (1,2,3,4,5,6,7,8,9,10,11,12,16,17) have mixed types.Specify dtype option on import or set low_memory=False.\n",
            "  exec(code_obj, self.user_global_ns, self.user_ns)\n"
          ]
        },
        {
          "output_type": "execute_result",
          "data": {
            "text/plain": [
              "         User_ID Gender   Age Location  Verification Sexual_orientation  \\\n",
              "0        10386.0   male  34,6        A  Non_Verified         Homosexual   \n",
              "1           14.0   male  32,2        J  Non_Verified       Heterosexual   \n",
              "2        16721.0   male  33,6        K  Non_Verified       Heterosexual   \n",
              "3        16957.0   male    34        H  Non_Verified       Heterosexual   \n",
              "4        17125.0   male  39,5        B  Non_Verified       Heterosexual   \n",
              "...          ...    ...   ...      ...           ...                ...   \n",
              "1048570      NaN    NaN   NaN      NaN           NaN                NaN   \n",
              "1048571      NaN    NaN   NaN      NaN           NaN                NaN   \n",
              "1048572      NaN    NaN   NaN      NaN           NaN                NaN   \n",
              "1048573      NaN    NaN   NaN      NaN           NaN                NaN   \n",
              "1048574      NaN    NaN   NaN      NaN           NaN                NaN   \n",
              "\n",
              "        Sexual_polarity Looking_for Points_Rank      Last_login Member_since  \\\n",
              "0                Switch         Men          50  before_10_days    17.9.2012   \n",
              "1              Dominant       Women         518   before_1_days    1.11.2009   \n",
              "2              Dominant       Women         150   before_3_days     1.4.2013   \n",
              "3              Dominant       Women         114   before_4_days     8.4.2013   \n",
              "4              Dominant       Women         497   before_5_days    14.4.2013   \n",
              "...                 ...         ...         ...             ...          ...   \n",
              "1048570             NaN         NaN         NaN             NaN          NaN   \n",
              "1048571             NaN         NaN         NaN             NaN          NaN   \n",
              "1048572             NaN         NaN         NaN             NaN          NaN   \n",
              "1048573             NaN         NaN         NaN             NaN          NaN   \n",
              "1048574             NaN         NaN         NaN             NaN          NaN   \n",
              "\n",
              "        Number_of_Comments_in_public_forum Time_spent_chating_H:M  \\\n",
              "0                                       32                    0:2   \n",
              "1                                      710                   3:45   \n",
              "2                                       25                   2:15   \n",
              "3                                      107                 359:22   \n",
              "4                                      600                   0:21   \n",
              "...                                    ...                    ...   \n",
              "1048570                                NaN                    NaN   \n",
              "1048571                                NaN                    NaN   \n",
              "1048572                                NaN                    NaN   \n",
              "1048573                                NaN                    NaN   \n",
              "1048574                                NaN                    NaN   \n",
              "\n",
              "         Number_of_advertisments_posted  Number_of_offline_meetings_attended  \\\n",
              "0                                   0.0                                  0.0   \n",
              "1                                   9.0                                  0.0   \n",
              "2                                   1.0                                  1.0   \n",
              "3                                   1.0                                  0.0   \n",
              "4                                   0.0                                  6.0   \n",
              "...                                 ...                                  ...   \n",
              "1048570                             NaN                                  NaN   \n",
              "1048571                             NaN                                  NaN   \n",
              "1048572                             NaN                                  NaN   \n",
              "1048573                             NaN                                  NaN   \n",
              "1048574                             NaN                                  NaN   \n",
              "\n",
              "         Profile_pictures                                    Friends_ID_list  \\\n",
              "0                     0.0                                              18260   \n",
              "1                     0.0          11778,32024,43768,23969,27318,45884,31277   \n",
              "2                    45.0                                  19805,21721,19802   \n",
              "3                     1.0  40847,38183,9507,42259,5807,28118,24848,37170,...   \n",
              "4                     8.0  1320,35739,34231,19097,20197,18069,12330,43342...   \n",
              "...                   ...                                                ...   \n",
              "1048570               NaN                                                NaN   \n",
              "1048571               NaN                                                NaN   \n",
              "1048572               NaN                                                NaN   \n",
              "1048573               NaN                                                NaN   \n",
              "1048574               NaN                                                NaN   \n",
              "\n",
              "            Risk  \n",
              "0        No_risk  \n",
              "1        No_risk  \n",
              "2        No_risk  \n",
              "3        No_risk  \n",
              "4        No_risk  \n",
              "...          ...  \n",
              "1048570      NaN  \n",
              "1048571      NaN  \n",
              "1048572      NaN  \n",
              "1048573      NaN  \n",
              "1048574      NaN  \n",
              "\n",
              "[1048575 rows x 18 columns]"
            ],
            "text/html": [
              "\n",
              "  <div id=\"df-be521cc1-f5f4-490c-848c-f2c8997babf8\">\n",
              "    <div class=\"colab-df-container\">\n",
              "      <div>\n",
              "<style scoped>\n",
              "    .dataframe tbody tr th:only-of-type {\n",
              "        vertical-align: middle;\n",
              "    }\n",
              "\n",
              "    .dataframe tbody tr th {\n",
              "        vertical-align: top;\n",
              "    }\n",
              "\n",
              "    .dataframe thead th {\n",
              "        text-align: right;\n",
              "    }\n",
              "</style>\n",
              "<table border=\"1\" class=\"dataframe\">\n",
              "  <thead>\n",
              "    <tr style=\"text-align: right;\">\n",
              "      <th></th>\n",
              "      <th>User_ID</th>\n",
              "      <th>Gender</th>\n",
              "      <th>Age</th>\n",
              "      <th>Location</th>\n",
              "      <th>Verification</th>\n",
              "      <th>Sexual_orientation</th>\n",
              "      <th>Sexual_polarity</th>\n",
              "      <th>Looking_for</th>\n",
              "      <th>Points_Rank</th>\n",
              "      <th>Last_login</th>\n",
              "      <th>Member_since</th>\n",
              "      <th>Number_of_Comments_in_public_forum</th>\n",
              "      <th>Time_spent_chating_H:M</th>\n",
              "      <th>Number_of_advertisments_posted</th>\n",
              "      <th>Number_of_offline_meetings_attended</th>\n",
              "      <th>Profile_pictures</th>\n",
              "      <th>Friends_ID_list</th>\n",
              "      <th>Risk</th>\n",
              "    </tr>\n",
              "  </thead>\n",
              "  <tbody>\n",
              "    <tr>\n",
              "      <th>0</th>\n",
              "      <td>10386.0</td>\n",
              "      <td>male</td>\n",
              "      <td>34,6</td>\n",
              "      <td>A</td>\n",
              "      <td>Non_Verified</td>\n",
              "      <td>Homosexual</td>\n",
              "      <td>Switch</td>\n",
              "      <td>Men</td>\n",
              "      <td>50</td>\n",
              "      <td>before_10_days</td>\n",
              "      <td>17.9.2012</td>\n",
              "      <td>32</td>\n",
              "      <td>0:2</td>\n",
              "      <td>0.0</td>\n",
              "      <td>0.0</td>\n",
              "      <td>0.0</td>\n",
              "      <td>18260</td>\n",
              "      <td>No_risk</td>\n",
              "    </tr>\n",
              "    <tr>\n",
              "      <th>1</th>\n",
              "      <td>14.0</td>\n",
              "      <td>male</td>\n",
              "      <td>32,2</td>\n",
              "      <td>J</td>\n",
              "      <td>Non_Verified</td>\n",
              "      <td>Heterosexual</td>\n",
              "      <td>Dominant</td>\n",
              "      <td>Women</td>\n",
              "      <td>518</td>\n",
              "      <td>before_1_days</td>\n",
              "      <td>1.11.2009</td>\n",
              "      <td>710</td>\n",
              "      <td>3:45</td>\n",
              "      <td>9.0</td>\n",
              "      <td>0.0</td>\n",
              "      <td>0.0</td>\n",
              "      <td>11778,32024,43768,23969,27318,45884,31277</td>\n",
              "      <td>No_risk</td>\n",
              "    </tr>\n",
              "    <tr>\n",
              "      <th>2</th>\n",
              "      <td>16721.0</td>\n",
              "      <td>male</td>\n",
              "      <td>33,6</td>\n",
              "      <td>K</td>\n",
              "      <td>Non_Verified</td>\n",
              "      <td>Heterosexual</td>\n",
              "      <td>Dominant</td>\n",
              "      <td>Women</td>\n",
              "      <td>150</td>\n",
              "      <td>before_3_days</td>\n",
              "      <td>1.4.2013</td>\n",
              "      <td>25</td>\n",
              "      <td>2:15</td>\n",
              "      <td>1.0</td>\n",
              "      <td>1.0</td>\n",
              "      <td>45.0</td>\n",
              "      <td>19805,21721,19802</td>\n",
              "      <td>No_risk</td>\n",
              "    </tr>\n",
              "    <tr>\n",
              "      <th>3</th>\n",
              "      <td>16957.0</td>\n",
              "      <td>male</td>\n",
              "      <td>34</td>\n",
              "      <td>H</td>\n",
              "      <td>Non_Verified</td>\n",
              "      <td>Heterosexual</td>\n",
              "      <td>Dominant</td>\n",
              "      <td>Women</td>\n",
              "      <td>114</td>\n",
              "      <td>before_4_days</td>\n",
              "      <td>8.4.2013</td>\n",
              "      <td>107</td>\n",
              "      <td>359:22</td>\n",
              "      <td>1.0</td>\n",
              "      <td>0.0</td>\n",
              "      <td>1.0</td>\n",
              "      <td>40847,38183,9507,42259,5807,28118,24848,37170,...</td>\n",
              "      <td>No_risk</td>\n",
              "    </tr>\n",
              "    <tr>\n",
              "      <th>4</th>\n",
              "      <td>17125.0</td>\n",
              "      <td>male</td>\n",
              "      <td>39,5</td>\n",
              "      <td>B</td>\n",
              "      <td>Non_Verified</td>\n",
              "      <td>Heterosexual</td>\n",
              "      <td>Dominant</td>\n",
              "      <td>Women</td>\n",
              "      <td>497</td>\n",
              "      <td>before_5_days</td>\n",
              "      <td>14.4.2013</td>\n",
              "      <td>600</td>\n",
              "      <td>0:21</td>\n",
              "      <td>0.0</td>\n",
              "      <td>6.0</td>\n",
              "      <td>8.0</td>\n",
              "      <td>1320,35739,34231,19097,20197,18069,12330,43342...</td>\n",
              "      <td>No_risk</td>\n",
              "    </tr>\n",
              "    <tr>\n",
              "      <th>...</th>\n",
              "      <td>...</td>\n",
              "      <td>...</td>\n",
              "      <td>...</td>\n",
              "      <td>...</td>\n",
              "      <td>...</td>\n",
              "      <td>...</td>\n",
              "      <td>...</td>\n",
              "      <td>...</td>\n",
              "      <td>...</td>\n",
              "      <td>...</td>\n",
              "      <td>...</td>\n",
              "      <td>...</td>\n",
              "      <td>...</td>\n",
              "      <td>...</td>\n",
              "      <td>...</td>\n",
              "      <td>...</td>\n",
              "      <td>...</td>\n",
              "      <td>...</td>\n",
              "    </tr>\n",
              "    <tr>\n",
              "      <th>1048570</th>\n",
              "      <td>NaN</td>\n",
              "      <td>NaN</td>\n",
              "      <td>NaN</td>\n",
              "      <td>NaN</td>\n",
              "      <td>NaN</td>\n",
              "      <td>NaN</td>\n",
              "      <td>NaN</td>\n",
              "      <td>NaN</td>\n",
              "      <td>NaN</td>\n",
              "      <td>NaN</td>\n",
              "      <td>NaN</td>\n",
              "      <td>NaN</td>\n",
              "      <td>NaN</td>\n",
              "      <td>NaN</td>\n",
              "      <td>NaN</td>\n",
              "      <td>NaN</td>\n",
              "      <td>NaN</td>\n",
              "      <td>NaN</td>\n",
              "    </tr>\n",
              "    <tr>\n",
              "      <th>1048571</th>\n",
              "      <td>NaN</td>\n",
              "      <td>NaN</td>\n",
              "      <td>NaN</td>\n",
              "      <td>NaN</td>\n",
              "      <td>NaN</td>\n",
              "      <td>NaN</td>\n",
              "      <td>NaN</td>\n",
              "      <td>NaN</td>\n",
              "      <td>NaN</td>\n",
              "      <td>NaN</td>\n",
              "      <td>NaN</td>\n",
              "      <td>NaN</td>\n",
              "      <td>NaN</td>\n",
              "      <td>NaN</td>\n",
              "      <td>NaN</td>\n",
              "      <td>NaN</td>\n",
              "      <td>NaN</td>\n",
              "      <td>NaN</td>\n",
              "    </tr>\n",
              "    <tr>\n",
              "      <th>1048572</th>\n",
              "      <td>NaN</td>\n",
              "      <td>NaN</td>\n",
              "      <td>NaN</td>\n",
              "      <td>NaN</td>\n",
              "      <td>NaN</td>\n",
              "      <td>NaN</td>\n",
              "      <td>NaN</td>\n",
              "      <td>NaN</td>\n",
              "      <td>NaN</td>\n",
              "      <td>NaN</td>\n",
              "      <td>NaN</td>\n",
              "      <td>NaN</td>\n",
              "      <td>NaN</td>\n",
              "      <td>NaN</td>\n",
              "      <td>NaN</td>\n",
              "      <td>NaN</td>\n",
              "      <td>NaN</td>\n",
              "      <td>NaN</td>\n",
              "    </tr>\n",
              "    <tr>\n",
              "      <th>1048573</th>\n",
              "      <td>NaN</td>\n",
              "      <td>NaN</td>\n",
              "      <td>NaN</td>\n",
              "      <td>NaN</td>\n",
              "      <td>NaN</td>\n",
              "      <td>NaN</td>\n",
              "      <td>NaN</td>\n",
              "      <td>NaN</td>\n",
              "      <td>NaN</td>\n",
              "      <td>NaN</td>\n",
              "      <td>NaN</td>\n",
              "      <td>NaN</td>\n",
              "      <td>NaN</td>\n",
              "      <td>NaN</td>\n",
              "      <td>NaN</td>\n",
              "      <td>NaN</td>\n",
              "      <td>NaN</td>\n",
              "      <td>NaN</td>\n",
              "    </tr>\n",
              "    <tr>\n",
              "      <th>1048574</th>\n",
              "      <td>NaN</td>\n",
              "      <td>NaN</td>\n",
              "      <td>NaN</td>\n",
              "      <td>NaN</td>\n",
              "      <td>NaN</td>\n",
              "      <td>NaN</td>\n",
              "      <td>NaN</td>\n",
              "      <td>NaN</td>\n",
              "      <td>NaN</td>\n",
              "      <td>NaN</td>\n",
              "      <td>NaN</td>\n",
              "      <td>NaN</td>\n",
              "      <td>NaN</td>\n",
              "      <td>NaN</td>\n",
              "      <td>NaN</td>\n",
              "      <td>NaN</td>\n",
              "      <td>NaN</td>\n",
              "      <td>NaN</td>\n",
              "    </tr>\n",
              "  </tbody>\n",
              "</table>\n",
              "<p>1048575 rows × 18 columns</p>\n",
              "</div>\n",
              "      <button class=\"colab-df-convert\" onclick=\"convertToInteractive('df-be521cc1-f5f4-490c-848c-f2c8997babf8')\"\n",
              "              title=\"Convert this dataframe to an interactive table.\"\n",
              "              style=\"display:none;\">\n",
              "        \n",
              "  <svg xmlns=\"http://www.w3.org/2000/svg\" height=\"24px\"viewBox=\"0 0 24 24\"\n",
              "       width=\"24px\">\n",
              "    <path d=\"M0 0h24v24H0V0z\" fill=\"none\"/>\n",
              "    <path d=\"M18.56 5.44l.94 2.06.94-2.06 2.06-.94-2.06-.94-.94-2.06-.94 2.06-2.06.94zm-11 1L8.5 8.5l.94-2.06 2.06-.94-2.06-.94L8.5 2.5l-.94 2.06-2.06.94zm10 10l.94 2.06.94-2.06 2.06-.94-2.06-.94-.94-2.06-.94 2.06-2.06.94z\"/><path d=\"M17.41 7.96l-1.37-1.37c-.4-.4-.92-.59-1.43-.59-.52 0-1.04.2-1.43.59L10.3 9.45l-7.72 7.72c-.78.78-.78 2.05 0 2.83L4 21.41c.39.39.9.59 1.41.59.51 0 1.02-.2 1.41-.59l7.78-7.78 2.81-2.81c.8-.78.8-2.07 0-2.86zM5.41 20L4 18.59l7.72-7.72 1.47 1.35L5.41 20z\"/>\n",
              "  </svg>\n",
              "      </button>\n",
              "      \n",
              "  <style>\n",
              "    .colab-df-container {\n",
              "      display:flex;\n",
              "      flex-wrap:wrap;\n",
              "      gap: 12px;\n",
              "    }\n",
              "\n",
              "    .colab-df-convert {\n",
              "      background-color: #E8F0FE;\n",
              "      border: none;\n",
              "      border-radius: 50%;\n",
              "      cursor: pointer;\n",
              "      display: none;\n",
              "      fill: #1967D2;\n",
              "      height: 32px;\n",
              "      padding: 0 0 0 0;\n",
              "      width: 32px;\n",
              "    }\n",
              "\n",
              "    .colab-df-convert:hover {\n",
              "      background-color: #E2EBFA;\n",
              "      box-shadow: 0px 1px 2px rgba(60, 64, 67, 0.3), 0px 1px 3px 1px rgba(60, 64, 67, 0.15);\n",
              "      fill: #174EA6;\n",
              "    }\n",
              "\n",
              "    [theme=dark] .colab-df-convert {\n",
              "      background-color: #3B4455;\n",
              "      fill: #D2E3FC;\n",
              "    }\n",
              "\n",
              "    [theme=dark] .colab-df-convert:hover {\n",
              "      background-color: #434B5C;\n",
              "      box-shadow: 0px 1px 3px 1px rgba(0, 0, 0, 0.15);\n",
              "      filter: drop-shadow(0px 1px 2px rgba(0, 0, 0, 0.3));\n",
              "      fill: #FFFFFF;\n",
              "    }\n",
              "  </style>\n",
              "\n",
              "      <script>\n",
              "        const buttonEl =\n",
              "          document.querySelector('#df-be521cc1-f5f4-490c-848c-f2c8997babf8 button.colab-df-convert');\n",
              "        buttonEl.style.display =\n",
              "          google.colab.kernel.accessAllowed ? 'block' : 'none';\n",
              "\n",
              "        async function convertToInteractive(key) {\n",
              "          const element = document.querySelector('#df-be521cc1-f5f4-490c-848c-f2c8997babf8');\n",
              "          const dataTable =\n",
              "            await google.colab.kernel.invokeFunction('convertToInteractive',\n",
              "                                                     [key], {});\n",
              "          if (!dataTable) return;\n",
              "\n",
              "          const docLinkHtml = 'Like what you see? Visit the ' +\n",
              "            '<a target=\"_blank\" href=https://colab.research.google.com/notebooks/data_table.ipynb>data table notebook</a>'\n",
              "            + ' to learn more about interactive tables.';\n",
              "          element.innerHTML = '';\n",
              "          dataTable['output_type'] = 'display_data';\n",
              "          await google.colab.output.renderOutput(dataTable, element);\n",
              "          const docLink = document.createElement('div');\n",
              "          docLink.innerHTML = docLinkHtml;\n",
              "          element.appendChild(docLink);\n",
              "        }\n",
              "      </script>\n",
              "    </div>\n",
              "  </div>\n",
              "  "
            ]
          },
          "metadata": {},
          "execution_count": 16
        }
      ]
    },
    {
      "cell_type": "markdown",
      "source": [
        "Необходимо убрать все пустые строки. Такими будут те, где не значится **User_ID**. Отсутствие ID означает отсутствие пользователя."
      ],
      "metadata": {
        "id": "pch4BcE6R6Bm"
      }
    },
    {
      "cell_type": "code",
      "source": [
        "firstnan = data[data['User_ID'].isnull()].iloc[0]\n",
        "firstnan"
      ],
      "metadata": {
        "id": "-a8gYUPIPGth",
        "colab": {
          "base_uri": "https://localhost:8080/"
        },
        "outputId": "8e5dec4a-d648-41d9-e235-98425f94368e"
      },
      "execution_count": null,
      "outputs": [
        {
          "output_type": "execute_result",
          "data": {
            "text/plain": [
              "User_ID                                NaN\n",
              "Gender                                 NaN\n",
              "Age                                    NaN\n",
              "Location                               NaN\n",
              "Verification                           NaN\n",
              "Sexual_orientation                     NaN\n",
              "Sexual_polarity                        NaN\n",
              "Looking_for                            NaN\n",
              "Points_Rank                            NaN\n",
              "Last_login                             NaN\n",
              "Member_since                           NaN\n",
              "Number_of_Comments_in_public_forum     NaN\n",
              "Time_spent_chating_H:M                 NaN\n",
              "Number_of_advertisments_posted         NaN\n",
              "Number_of_offline_meetings_attended    NaN\n",
              "Profile_pictures                       NaN\n",
              "Friends_ID_list                        NaN\n",
              "Risk                                   NaN\n",
              "Name: 28831, dtype: object"
            ]
          },
          "metadata": {},
          "execution_count": 16
        }
      ]
    },
    {
      "cell_type": "markdown",
      "source": [
        "Создадим **срез** датасета, который будет очищен от пустых значений и назовем его **cdata** (clean data). С этим срезом мы будем работать дальше, чтобы пустые значения не искажали статистику."
      ],
      "metadata": {
        "id": "TCX1U4Up-WgJ"
      }
    },
    {
      "cell_type": "code",
      "source": [
        "cdata = data.iloc[:28831]\n",
        "cdata"
      ],
      "metadata": {
        "colab": {
          "base_uri": "https://localhost:8080/",
          "height": 488
        },
        "id": "0riDF6-FPafm",
        "outputId": "48e46656-14c3-4f3b-b7d6-30f1b590ab5d"
      },
      "execution_count": null,
      "outputs": [
        {
          "output_type": "execute_result",
          "data": {
            "text/plain": [
              "       User_ID  Gender   Age Location  Verification Sexual_orientation  \\\n",
              "0      10386.0    male  34,6        A  Non_Verified         Homosexual   \n",
              "1         14.0    male  32,2        J  Non_Verified       Heterosexual   \n",
              "2      16721.0    male  33,6        K  Non_Verified       Heterosexual   \n",
              "3      16957.0    male    34        H  Non_Verified       Heterosexual   \n",
              "4      17125.0    male  39,5        B  Non_Verified       Heterosexual   \n",
              "...        ...     ...   ...      ...           ...                ...   \n",
              "28826   9962.0    male  27,2        J  Non_Verified       Heterosexual   \n",
              "28827   9964.0    male  46,4        J  Non_Verified          bicurious   \n",
              "28828   9966.0    male  28,8        C  Non_Verified       Heterosexual   \n",
              "28829   9968.0    male  31,5        J  Non_Verified           bisexual   \n",
              "28830    998.0  female  38,7        F  Non_Verified       Heterosexual   \n",
              "\n",
              "      Sexual_polarity    Looking_for Points_Rank       Last_login  \\\n",
              "0              Switch            Men          50   before_10_days   \n",
              "1            Dominant          Women         518    before_1_days   \n",
              "2            Dominant          Women         150    before_3_days   \n",
              "3            Dominant          Women         114    before_4_days   \n",
              "4            Dominant          Women         497    before_5_days   \n",
              "...               ...            ...         ...              ...   \n",
              "28826          Switch          Women           0   before_23_days   \n",
              "28827       Submisive  Men_and_Women          15  before_597_days   \n",
              "28828       Submisive          Women          15    before_4_days   \n",
              "28829       Submisive            Men          30  before_665_days   \n",
              "28830        Dominant         Nobody          20  before_157_days   \n",
              "\n",
              "      Member_since Number_of_Comments_in_public_forum Time_spent_chating_H:M  \\\n",
              "0        17.9.2012                                 32                    0:2   \n",
              "1        1.11.2009                                710                   3:45   \n",
              "2         1.4.2013                                 25                   2:15   \n",
              "3         8.4.2013                                107                 359:22   \n",
              "4        14.4.2013                                600                   0:21   \n",
              "...            ...                                ...                    ...   \n",
              "28826     5.9.2012                                  0                    0:3   \n",
              "28827     5.9.2012                                  0                    0:0   \n",
              "28828     5.9.2012                                  0                    0:0   \n",
              "28829     1.9.2012                                  0                   2:54   \n",
              "28830    20.5.2010                                  0                    0:9   \n",
              "\n",
              "       Number_of_advertisments_posted  Number_of_offline_meetings_attended  \\\n",
              "0                                 0.0                                  0.0   \n",
              "1                                 9.0                                  0.0   \n",
              "2                                 1.0                                  1.0   \n",
              "3                                 1.0                                  0.0   \n",
              "4                                 0.0                                  6.0   \n",
              "...                               ...                                  ...   \n",
              "28826                             1.0                                  0.0   \n",
              "28827                             0.0                                  0.0   \n",
              "28828                             0.0                                  0.0   \n",
              "28829                             4.0                                  0.0   \n",
              "28830                             0.0                                  0.0   \n",
              "\n",
              "       Profile_pictures                                    Friends_ID_list  \\\n",
              "0                   0.0                                              18260   \n",
              "1                   0.0          11778,32024,43768,23969,27318,45884,31277   \n",
              "2                  45.0                                  19805,21721,19802   \n",
              "3                   1.0  40847,38183,9507,42259,5807,28118,24848,37170,...   \n",
              "4                   8.0  1320,35739,34231,19097,20197,18069,12330,43342...   \n",
              "...                 ...                                                ...   \n",
              "28826               0.0                                                NaN   \n",
              "28827               0.0                                                NaN   \n",
              "28828               0.0                                                NaN   \n",
              "28829               0.0                                                NaN   \n",
              "28830               1.0                                                NaN   \n",
              "\n",
              "               Risk  \n",
              "0           No_risk  \n",
              "1           No_risk  \n",
              "2           No_risk  \n",
              "3           No_risk  \n",
              "4           No_risk  \n",
              "...             ...  \n",
              "28826  unknown_risk  \n",
              "28827  unknown_risk  \n",
              "28828  unknown_risk  \n",
              "28829  unknown_risk  \n",
              "28830  unknown_risk  \n",
              "\n",
              "[28831 rows x 18 columns]"
            ],
            "text/html": [
              "\n",
              "  <div id=\"df-fa0db13d-70a1-46ed-a541-13390ff177e8\">\n",
              "    <div class=\"colab-df-container\">\n",
              "      <div>\n",
              "<style scoped>\n",
              "    .dataframe tbody tr th:only-of-type {\n",
              "        vertical-align: middle;\n",
              "    }\n",
              "\n",
              "    .dataframe tbody tr th {\n",
              "        vertical-align: top;\n",
              "    }\n",
              "\n",
              "    .dataframe thead th {\n",
              "        text-align: right;\n",
              "    }\n",
              "</style>\n",
              "<table border=\"1\" class=\"dataframe\">\n",
              "  <thead>\n",
              "    <tr style=\"text-align: right;\">\n",
              "      <th></th>\n",
              "      <th>User_ID</th>\n",
              "      <th>Gender</th>\n",
              "      <th>Age</th>\n",
              "      <th>Location</th>\n",
              "      <th>Verification</th>\n",
              "      <th>Sexual_orientation</th>\n",
              "      <th>Sexual_polarity</th>\n",
              "      <th>Looking_for</th>\n",
              "      <th>Points_Rank</th>\n",
              "      <th>Last_login</th>\n",
              "      <th>Member_since</th>\n",
              "      <th>Number_of_Comments_in_public_forum</th>\n",
              "      <th>Time_spent_chating_H:M</th>\n",
              "      <th>Number_of_advertisments_posted</th>\n",
              "      <th>Number_of_offline_meetings_attended</th>\n",
              "      <th>Profile_pictures</th>\n",
              "      <th>Friends_ID_list</th>\n",
              "      <th>Risk</th>\n",
              "    </tr>\n",
              "  </thead>\n",
              "  <tbody>\n",
              "    <tr>\n",
              "      <th>0</th>\n",
              "      <td>10386.0</td>\n",
              "      <td>male</td>\n",
              "      <td>34,6</td>\n",
              "      <td>A</td>\n",
              "      <td>Non_Verified</td>\n",
              "      <td>Homosexual</td>\n",
              "      <td>Switch</td>\n",
              "      <td>Men</td>\n",
              "      <td>50</td>\n",
              "      <td>before_10_days</td>\n",
              "      <td>17.9.2012</td>\n",
              "      <td>32</td>\n",
              "      <td>0:2</td>\n",
              "      <td>0.0</td>\n",
              "      <td>0.0</td>\n",
              "      <td>0.0</td>\n",
              "      <td>18260</td>\n",
              "      <td>No_risk</td>\n",
              "    </tr>\n",
              "    <tr>\n",
              "      <th>1</th>\n",
              "      <td>14.0</td>\n",
              "      <td>male</td>\n",
              "      <td>32,2</td>\n",
              "      <td>J</td>\n",
              "      <td>Non_Verified</td>\n",
              "      <td>Heterosexual</td>\n",
              "      <td>Dominant</td>\n",
              "      <td>Women</td>\n",
              "      <td>518</td>\n",
              "      <td>before_1_days</td>\n",
              "      <td>1.11.2009</td>\n",
              "      <td>710</td>\n",
              "      <td>3:45</td>\n",
              "      <td>9.0</td>\n",
              "      <td>0.0</td>\n",
              "      <td>0.0</td>\n",
              "      <td>11778,32024,43768,23969,27318,45884,31277</td>\n",
              "      <td>No_risk</td>\n",
              "    </tr>\n",
              "    <tr>\n",
              "      <th>2</th>\n",
              "      <td>16721.0</td>\n",
              "      <td>male</td>\n",
              "      <td>33,6</td>\n",
              "      <td>K</td>\n",
              "      <td>Non_Verified</td>\n",
              "      <td>Heterosexual</td>\n",
              "      <td>Dominant</td>\n",
              "      <td>Women</td>\n",
              "      <td>150</td>\n",
              "      <td>before_3_days</td>\n",
              "      <td>1.4.2013</td>\n",
              "      <td>25</td>\n",
              "      <td>2:15</td>\n",
              "      <td>1.0</td>\n",
              "      <td>1.0</td>\n",
              "      <td>45.0</td>\n",
              "      <td>19805,21721,19802</td>\n",
              "      <td>No_risk</td>\n",
              "    </tr>\n",
              "    <tr>\n",
              "      <th>3</th>\n",
              "      <td>16957.0</td>\n",
              "      <td>male</td>\n",
              "      <td>34</td>\n",
              "      <td>H</td>\n",
              "      <td>Non_Verified</td>\n",
              "      <td>Heterosexual</td>\n",
              "      <td>Dominant</td>\n",
              "      <td>Women</td>\n",
              "      <td>114</td>\n",
              "      <td>before_4_days</td>\n",
              "      <td>8.4.2013</td>\n",
              "      <td>107</td>\n",
              "      <td>359:22</td>\n",
              "      <td>1.0</td>\n",
              "      <td>0.0</td>\n",
              "      <td>1.0</td>\n",
              "      <td>40847,38183,9507,42259,5807,28118,24848,37170,...</td>\n",
              "      <td>No_risk</td>\n",
              "    </tr>\n",
              "    <tr>\n",
              "      <th>4</th>\n",
              "      <td>17125.0</td>\n",
              "      <td>male</td>\n",
              "      <td>39,5</td>\n",
              "      <td>B</td>\n",
              "      <td>Non_Verified</td>\n",
              "      <td>Heterosexual</td>\n",
              "      <td>Dominant</td>\n",
              "      <td>Women</td>\n",
              "      <td>497</td>\n",
              "      <td>before_5_days</td>\n",
              "      <td>14.4.2013</td>\n",
              "      <td>600</td>\n",
              "      <td>0:21</td>\n",
              "      <td>0.0</td>\n",
              "      <td>6.0</td>\n",
              "      <td>8.0</td>\n",
              "      <td>1320,35739,34231,19097,20197,18069,12330,43342...</td>\n",
              "      <td>No_risk</td>\n",
              "    </tr>\n",
              "    <tr>\n",
              "      <th>...</th>\n",
              "      <td>...</td>\n",
              "      <td>...</td>\n",
              "      <td>...</td>\n",
              "      <td>...</td>\n",
              "      <td>...</td>\n",
              "      <td>...</td>\n",
              "      <td>...</td>\n",
              "      <td>...</td>\n",
              "      <td>...</td>\n",
              "      <td>...</td>\n",
              "      <td>...</td>\n",
              "      <td>...</td>\n",
              "      <td>...</td>\n",
              "      <td>...</td>\n",
              "      <td>...</td>\n",
              "      <td>...</td>\n",
              "      <td>...</td>\n",
              "      <td>...</td>\n",
              "    </tr>\n",
              "    <tr>\n",
              "      <th>28826</th>\n",
              "      <td>9962.0</td>\n",
              "      <td>male</td>\n",
              "      <td>27,2</td>\n",
              "      <td>J</td>\n",
              "      <td>Non_Verified</td>\n",
              "      <td>Heterosexual</td>\n",
              "      <td>Switch</td>\n",
              "      <td>Women</td>\n",
              "      <td>0</td>\n",
              "      <td>before_23_days</td>\n",
              "      <td>5.9.2012</td>\n",
              "      <td>0</td>\n",
              "      <td>0:3</td>\n",
              "      <td>1.0</td>\n",
              "      <td>0.0</td>\n",
              "      <td>0.0</td>\n",
              "      <td>NaN</td>\n",
              "      <td>unknown_risk</td>\n",
              "    </tr>\n",
              "    <tr>\n",
              "      <th>28827</th>\n",
              "      <td>9964.0</td>\n",
              "      <td>male</td>\n",
              "      <td>46,4</td>\n",
              "      <td>J</td>\n",
              "      <td>Non_Verified</td>\n",
              "      <td>bicurious</td>\n",
              "      <td>Submisive</td>\n",
              "      <td>Men_and_Women</td>\n",
              "      <td>15</td>\n",
              "      <td>before_597_days</td>\n",
              "      <td>5.9.2012</td>\n",
              "      <td>0</td>\n",
              "      <td>0:0</td>\n",
              "      <td>0.0</td>\n",
              "      <td>0.0</td>\n",
              "      <td>0.0</td>\n",
              "      <td>NaN</td>\n",
              "      <td>unknown_risk</td>\n",
              "    </tr>\n",
              "    <tr>\n",
              "      <th>28828</th>\n",
              "      <td>9966.0</td>\n",
              "      <td>male</td>\n",
              "      <td>28,8</td>\n",
              "      <td>C</td>\n",
              "      <td>Non_Verified</td>\n",
              "      <td>Heterosexual</td>\n",
              "      <td>Submisive</td>\n",
              "      <td>Women</td>\n",
              "      <td>15</td>\n",
              "      <td>before_4_days</td>\n",
              "      <td>5.9.2012</td>\n",
              "      <td>0</td>\n",
              "      <td>0:0</td>\n",
              "      <td>0.0</td>\n",
              "      <td>0.0</td>\n",
              "      <td>0.0</td>\n",
              "      <td>NaN</td>\n",
              "      <td>unknown_risk</td>\n",
              "    </tr>\n",
              "    <tr>\n",
              "      <th>28829</th>\n",
              "      <td>9968.0</td>\n",
              "      <td>male</td>\n",
              "      <td>31,5</td>\n",
              "      <td>J</td>\n",
              "      <td>Non_Verified</td>\n",
              "      <td>bisexual</td>\n",
              "      <td>Submisive</td>\n",
              "      <td>Men</td>\n",
              "      <td>30</td>\n",
              "      <td>before_665_days</td>\n",
              "      <td>1.9.2012</td>\n",
              "      <td>0</td>\n",
              "      <td>2:54</td>\n",
              "      <td>4.0</td>\n",
              "      <td>0.0</td>\n",
              "      <td>0.0</td>\n",
              "      <td>NaN</td>\n",
              "      <td>unknown_risk</td>\n",
              "    </tr>\n",
              "    <tr>\n",
              "      <th>28830</th>\n",
              "      <td>998.0</td>\n",
              "      <td>female</td>\n",
              "      <td>38,7</td>\n",
              "      <td>F</td>\n",
              "      <td>Non_Verified</td>\n",
              "      <td>Heterosexual</td>\n",
              "      <td>Dominant</td>\n",
              "      <td>Nobody</td>\n",
              "      <td>20</td>\n",
              "      <td>before_157_days</td>\n",
              "      <td>20.5.2010</td>\n",
              "      <td>0</td>\n",
              "      <td>0:9</td>\n",
              "      <td>0.0</td>\n",
              "      <td>0.0</td>\n",
              "      <td>1.0</td>\n",
              "      <td>NaN</td>\n",
              "      <td>unknown_risk</td>\n",
              "    </tr>\n",
              "  </tbody>\n",
              "</table>\n",
              "<p>28831 rows × 18 columns</p>\n",
              "</div>\n",
              "      <button class=\"colab-df-convert\" onclick=\"convertToInteractive('df-fa0db13d-70a1-46ed-a541-13390ff177e8')\"\n",
              "              title=\"Convert this dataframe to an interactive table.\"\n",
              "              style=\"display:none;\">\n",
              "        \n",
              "  <svg xmlns=\"http://www.w3.org/2000/svg\" height=\"24px\"viewBox=\"0 0 24 24\"\n",
              "       width=\"24px\">\n",
              "    <path d=\"M0 0h24v24H0V0z\" fill=\"none\"/>\n",
              "    <path d=\"M18.56 5.44l.94 2.06.94-2.06 2.06-.94-2.06-.94-.94-2.06-.94 2.06-2.06.94zm-11 1L8.5 8.5l.94-2.06 2.06-.94-2.06-.94L8.5 2.5l-.94 2.06-2.06.94zm10 10l.94 2.06.94-2.06 2.06-.94-2.06-.94-.94-2.06-.94 2.06-2.06.94z\"/><path d=\"M17.41 7.96l-1.37-1.37c-.4-.4-.92-.59-1.43-.59-.52 0-1.04.2-1.43.59L10.3 9.45l-7.72 7.72c-.78.78-.78 2.05 0 2.83L4 21.41c.39.39.9.59 1.41.59.51 0 1.02-.2 1.41-.59l7.78-7.78 2.81-2.81c.8-.78.8-2.07 0-2.86zM5.41 20L4 18.59l7.72-7.72 1.47 1.35L5.41 20z\"/>\n",
              "  </svg>\n",
              "      </button>\n",
              "      \n",
              "  <style>\n",
              "    .colab-df-container {\n",
              "      display:flex;\n",
              "      flex-wrap:wrap;\n",
              "      gap: 12px;\n",
              "    }\n",
              "\n",
              "    .colab-df-convert {\n",
              "      background-color: #E8F0FE;\n",
              "      border: none;\n",
              "      border-radius: 50%;\n",
              "      cursor: pointer;\n",
              "      display: none;\n",
              "      fill: #1967D2;\n",
              "      height: 32px;\n",
              "      padding: 0 0 0 0;\n",
              "      width: 32px;\n",
              "    }\n",
              "\n",
              "    .colab-df-convert:hover {\n",
              "      background-color: #E2EBFA;\n",
              "      box-shadow: 0px 1px 2px rgba(60, 64, 67, 0.3), 0px 1px 3px 1px rgba(60, 64, 67, 0.15);\n",
              "      fill: #174EA6;\n",
              "    }\n",
              "\n",
              "    [theme=dark] .colab-df-convert {\n",
              "      background-color: #3B4455;\n",
              "      fill: #D2E3FC;\n",
              "    }\n",
              "\n",
              "    [theme=dark] .colab-df-convert:hover {\n",
              "      background-color: #434B5C;\n",
              "      box-shadow: 0px 1px 3px 1px rgba(0, 0, 0, 0.15);\n",
              "      filter: drop-shadow(0px 1px 2px rgba(0, 0, 0, 0.3));\n",
              "      fill: #FFFFFF;\n",
              "    }\n",
              "  </style>\n",
              "\n",
              "      <script>\n",
              "        const buttonEl =\n",
              "          document.querySelector('#df-fa0db13d-70a1-46ed-a541-13390ff177e8 button.colab-df-convert');\n",
              "        buttonEl.style.display =\n",
              "          google.colab.kernel.accessAllowed ? 'block' : 'none';\n",
              "\n",
              "        async function convertToInteractive(key) {\n",
              "          const element = document.querySelector('#df-fa0db13d-70a1-46ed-a541-13390ff177e8');\n",
              "          const dataTable =\n",
              "            await google.colab.kernel.invokeFunction('convertToInteractive',\n",
              "                                                     [key], {});\n",
              "          if (!dataTable) return;\n",
              "\n",
              "          const docLinkHtml = 'Like what you see? Visit the ' +\n",
              "            '<a target=\"_blank\" href=https://colab.research.google.com/notebooks/data_table.ipynb>data table notebook</a>'\n",
              "            + ' to learn more about interactive tables.';\n",
              "          element.innerHTML = '';\n",
              "          dataTable['output_type'] = 'display_data';\n",
              "          await google.colab.output.renderOutput(dataTable, element);\n",
              "          const docLink = document.createElement('div');\n",
              "          docLink.innerHTML = docLinkHtml;\n",
              "          element.appendChild(docLink);\n",
              "        }\n",
              "      </script>\n",
              "    </div>\n",
              "  </div>\n",
              "  "
            ]
          },
          "metadata": {},
          "execution_count": 17
        }
      ]
    },
    {
      "cell_type": "markdown",
      "source": [
        "## **Частотные таблицы**"
      ],
      "metadata": {
        "id": "yz-egM8eBUAf"
      }
    },
    {
      "cell_type": "markdown",
      "source": [
        "Создадим частотные таблицы для всех переменных, содержащих категориальные данные, кроме переменной **Risk**, так как риск по ней не рассчитан. Для переменных **Age, Points_Rank, Member_since, Number_of_Comments_in_public_forum, Time_spent_chating_H:M, Friends_ID_list**\tколичество значений будет слишком большое, из-за чего данные будет сложно интерпретировать. Из них данные можно будет извлечь в новые объединенные переменные (например, разбить возраст на промежутки в 10 лет). В то же время такие переменные, как **Last_login, Number_of_advertisments_posted, Number_of_offline_meetings_attended, Profile_pictures** не обязательно будут иметь слишком большой разброс значений, поэтому, для проверки этой гипотезы, мы создадим для них частотные таблицы.\n",
        "\n",
        "Эти таблицы дадут нам понимание о преобладающих демографических показателях пользователей форума и их преобладающих сексуальных предпочтениях."
      ],
      "metadata": {
        "id": "uT4kf1lCBb2f"
      }
    },
    {
      "cell_type": "code",
      "source": [
        "cdata['Gender'].value_counts(dropna=False)"
      ],
      "metadata": {
        "id": "MOn-4ExOBaKQ",
        "colab": {
          "base_uri": "https://localhost:8080/"
        },
        "outputId": "e9ec3ecd-def3-485e-aee6-10f66f40ff9e"
      },
      "execution_count": 20,
      "outputs": [
        {
          "output_type": "execute_result",
          "data": {
            "text/plain": [
              "male      22382\n",
              "female     6445\n",
              "NaN           4\n",
              "Name: Gender, dtype: int64"
            ]
          },
          "metadata": {},
          "execution_count": 20
        }
      ]
    },
    {
      "cell_type": "markdown",
      "source": [
        "Эта таблица показывает, что большая потребность в форуме для взрослых встречается у пользователей мужского пола, поскольку их почти в 3,5 раза больше, чем женщин."
      ],
      "metadata": {
        "id": "Gl3UlnsUMMVZ"
      }
    },
    {
      "cell_type": "code",
      "source": [
        "cdata['Location'].value_counts(dropna=False)"
      ],
      "metadata": {
        "colab": {
          "base_uri": "https://localhost:8080/"
        },
        "id": "rDZ7GduNKpCa",
        "outputId": "84cdeaf8-c692-47e2-e2dd-910d42a5a4ac"
      },
      "execution_count": 21,
      "outputs": [
        {
          "output_type": "execute_result",
          "data": {
            "text/plain": [
              "A                     10944\n",
              "B                      3572\n",
              "G                      2211\n",
              "L                      2210\n",
              "M                      1261\n",
              "K                      1209\n",
              "C                      1176\n",
              "H                      1167\n",
              "E                       951\n",
              "O                       892\n",
              "J                       849\n",
              "F                       822\n",
              "N                       623\n",
              "S                       484\n",
              "D                       455\n",
              "A kraj                    2\n",
              "Jihomoravsk_ý kraj        1\n",
              "NaN                       1\n",
              "South Moravian            1\n",
              "Name: Location, dtype: int64"
            ]
          },
          "metadata": {},
          "execution_count": 21
        }
      ]
    },
    {
      "cell_type": "markdown",
      "source": [
        "Частотная таблица по локации пользователей показывает, что целевой аудиторией форума является один населенный пункт/область, так как почти треть пользователей находятся в локации А (в чистом датасете 28830 пользователей)."
      ],
      "metadata": {
        "id": "xY79JMW8Mq3t"
      }
    },
    {
      "cell_type": "code",
      "source": [
        "cdata['Verification'].value_counts(dropna=False)"
      ],
      "metadata": {
        "colab": {
          "base_uri": "https://localhost:8080/"
        },
        "id": "1xcXP52fKo8k",
        "outputId": "6b4d3697-c8a4-4254-d2fd-9d0d112eaf55"
      },
      "execution_count": 22,
      "outputs": [
        {
          "output_type": "execute_result",
          "data": {
            "text/plain": [
              "Non_Verified     28228\n",
              "Verified           602\n",
              "Administrator        1\n",
              "Name: Verification, dtype: int64"
            ]
          },
          "metadata": {},
          "execution_count": 22
        }
      ]
    },
    {
      "cell_type": "markdown",
      "source": [
        "Из данной таблицы можно заключить, что подтвержденных пользователей довольно мало по сравнению с неподтвержденными. Кроме того, мы видим, что на форуме есть только 1 администратор."
      ],
      "metadata": {
        "id": "ClhYbx0eNTWk"
      }
    },
    {
      "cell_type": "code",
      "source": [
        "cdata['Sexual_orientation'].value_counts(dropna=False)"
      ],
      "metadata": {
        "colab": {
          "base_uri": "https://localhost:8080/"
        },
        "id": "Wtlk_TsjKo12",
        "outputId": "5b5f627c-8300-45b8-fb41-89c0f173f311"
      },
      "execution_count": 23,
      "outputs": [
        {
          "output_type": "execute_result",
          "data": {
            "text/plain": [
              "Heterosexual    20441\n",
              "bisexual         4391\n",
              "bicurious        2992\n",
              "Homosexual       1006\n",
              "NaN                 1\n",
              "Name: Sexual_orientation, dtype: int64"
            ]
          },
          "metadata": {},
          "execution_count": 23
        }
      ]
    },
    {
      "cell_type": "markdown",
      "source": [
        "Среди пользователей форума примерно две трети являются гетеросексуальными, а их соотношение с гомосексуальными примерно равно 20:1."
      ],
      "metadata": {
        "id": "40FNMqkpNmLK"
      }
    },
    {
      "cell_type": "code",
      "source": [
        "cdata['Sexual_polarity'].value_counts(dropna=False)"
      ],
      "metadata": {
        "colab": {
          "base_uri": "https://localhost:8080/"
        },
        "id": "AAUnONHTKovI",
        "outputId": "1a254f56-9d93-4c1e-821e-f25dfdde1365"
      },
      "execution_count": 24,
      "outputs": [
        {
          "output_type": "execute_result",
          "data": {
            "text/plain": [
              "Submisive    10878\n",
              "Dominant     10474\n",
              "Switch        7478\n",
              "NaN              1\n",
              "Name: Sexual_polarity, dtype: int64"
            ]
          },
          "metadata": {},
          "execution_count": 24
        }
      ]
    },
    {
      "cell_type": "markdown",
      "source": [
        "Количество пользователей, проявляющих только доминантную или только подчиняющуюся сексуальную активность, примерно равно и составляет чуть больше двух третей, тогда как оставшуюся неполную треть занимают пользователи, у которых проявление сексуальной активности непостоянно."
      ],
      "metadata": {
        "id": "w5PflfWyOLS4"
      }
    },
    {
      "cell_type": "code",
      "source": [
        "cdata['Looking_for'].value_counts(dropna=False)"
      ],
      "metadata": {
        "colab": {
          "base_uri": "https://localhost:8080/"
        },
        "id": "n-pB6o9NKooZ",
        "outputId": "00d21c7c-3e4c-4235-e589-c5a61ebe3860"
      },
      "execution_count": 25,
      "outputs": [
        {
          "output_type": "execute_result",
          "data": {
            "text/plain": [
              "Nobody              19928\n",
              "Women                4896\n",
              "Nobody_but_maybe     1512\n",
              "Men_and_Women        1074\n",
              "Men                   996\n",
              "NaN                   425\n",
              "Name: Looking_for, dtype: int64"
            ]
          },
          "metadata": {},
          "execution_count": 25
        }
      ]
    },
    {
      "cell_type": "markdown",
      "source": [
        "Из частотной таблицы можно заключить, что большая часть пользователей находится на форуме скорее не для знакомств, а для общения или чтения дискуссий. Наиболее же часто встречающийся пол искомого партнера - женский, что предсказуемо, так как большую часть аудитории форума составляют гетеросексуальные мужчины."
      ],
      "metadata": {
        "id": "ijkfNK33PDoZ"
      }
    },
    {
      "cell_type": "code",
      "source": [
        "cdata['Last_login'].value_counts(dropna=False)"
      ],
      "metadata": {
        "colab": {
          "base_uri": "https://localhost:8080/"
        },
        "id": "0yPHl5QiKohP",
        "outputId": "8fd05891-45b7-42bf-aa38-fd67fe5ec68e"
      },
      "execution_count": 26,
      "outputs": [
        {
          "output_type": "execute_result",
          "data": {
            "text/plain": [
              "before_1_days       1392\n",
              "before_3_days        961\n",
              "before_4_days        314\n",
              "before_6_days        237\n",
              "before_5_days        233\n",
              "                    ... \n",
              "before_2113_days       1\n",
              "before_2376_days       1\n",
              "before_2097_days       1\n",
              "before_2026_days       1\n",
              "before_2398_days       1\n",
              "Name: Last_login, Length: 2360, dtype: int64"
            ]
          },
          "metadata": {},
          "execution_count": 26
        }
      ]
    },
    {
      "cell_type": "markdown",
      "source": [
        "Среди топ-5 дат последнего онлайна все даты вписываются в промежуток недели до момента создания датасета. В то же время количество пользователей, которые были в сети хотя бы раз за неделю до сбора данных, составляет примерно 9-10% (мы пропускаем тех, кто был за 2 и за 7 дней до сбора данных в сети, так как это не очень важно). Это дает нам понимание, что примерно такой процент от всей аудитории форума достаточно активен."
      ],
      "metadata": {
        "id": "BABA17zXPk3A"
      }
    },
    {
      "cell_type": "code",
      "source": [
        "cdata['Number_of_advertisments_posted'].value_counts(dropna=False)"
      ],
      "metadata": {
        "colab": {
          "base_uri": "https://localhost:8080/"
        },
        "id": "f67ItH9wKoZV",
        "outputId": "c640317e-bad0-4255-f680-fd6ce33799d1"
      },
      "execution_count": 28,
      "outputs": [
        {
          "output_type": "execute_result",
          "data": {
            "text/plain": [
              "0.0     25164\n",
              "1.0      2984\n",
              "2.0       453\n",
              "3.0       114\n",
              "4.0        48\n",
              "5.0        28\n",
              "6.0        12\n",
              "8.0         6\n",
              "7.0         5\n",
              "10.0        3\n",
              "9.0         3\n",
              "11.0        3\n",
              "14.0        2\n",
              "18.0        2\n",
              "16.0        1\n",
              "15.0        1\n",
              "17.0        1\n",
              "21.0        1\n",
              "Name: Number_of_advertisments_posted, dtype: int64"
            ]
          },
          "metadata": {},
          "execution_count": 28
        }
      ]
    },
    {
      "cell_type": "markdown",
      "source": [
        "Подавляющее большинство пользователей форума ни разу не публиковало рекламного сообщения, а количество тех, кто публиковал хотя бы одно, меньше примерно в 9-10 раз. Дважды публиковало сообщения уже в 5 раз меньшее количество, чем единожды. "
      ],
      "metadata": {
        "id": "9qPy1MRrQmmt"
      }
    },
    {
      "cell_type": "code",
      "source": [
        "cdata['Number_of_offline_meetings_attended'].value_counts(dropna=False)"
      ],
      "metadata": {
        "colab": {
          "base_uri": "https://localhost:8080/"
        },
        "id": "YIVgExv3KoQN",
        "outputId": "7f93b285-d6a0-4be6-9afa-f3db4deba7db"
      },
      "execution_count": 29,
      "outputs": [
        {
          "output_type": "execute_result",
          "data": {
            "text/plain": [
              "0.0     28302\n",
              "1.0       293\n",
              "2.0        91\n",
              "3.0        50\n",
              "4.0        34\n",
              "5.0        21\n",
              "6.0        11\n",
              "7.0         9\n",
              "9.0         6\n",
              "10.0        4\n",
              "11.0        3\n",
              "8.0         3\n",
              "13.0        1\n",
              "16.0        1\n",
              "23.0        1\n",
              "15.0        1\n",
              "Name: Number_of_offline_meetings_attended, dtype: int64"
            ]
          },
          "metadata": {},
          "execution_count": 29
        }
      ]
    },
    {
      "cell_type": "markdown",
      "source": [
        "По этой частотной таблице можно сказать, что пользователи в основном пользуются форумом для онлайн-общения. Более 98% ни разу не встречались со своими собеседниками в реальной жизни."
      ],
      "metadata": {
        "id": "30Hzr9pJTNhJ"
      }
    },
    {
      "cell_type": "code",
      "source": [
        "cdata['Profile_pictures'].value_counts(dropna=False)"
      ],
      "metadata": {
        "colab": {
          "base_uri": "https://localhost:8080/"
        },
        "id": "FVv848q8Knvr",
        "outputId": "1e3eced9-1276-48cc-d07c-6ed6d11fbe15"
      },
      "execution_count": 30,
      "outputs": [
        {
          "output_type": "execute_result",
          "data": {
            "text/plain": [
              "0.0     26351\n",
              "1.0       936\n",
              "2.0       396\n",
              "3.0       257\n",
              "4.0       185\n",
              "        ...  \n",
              "67.0        1\n",
              "53.0        1\n",
              "45.0        1\n",
              "34.0        1\n",
              "40.0        1\n",
              "Name: Profile_pictures, Length: 63, dtype: int64"
            ]
          },
          "metadata": {},
          "execution_count": 30
        }
      ]
    },
    {
      "cell_type": "markdown",
      "source": [
        "По полученным данным можно судить о том, что пользователи форума для взрослых не любят публиковать свои личные данные. 91,5% пользователей не устанавливал фотографию профиля и сохранял визуальную анонимность."
      ],
      "metadata": {
        "id": "cIxqydZ9T0A2"
      }
    },
    {
      "cell_type": "markdown",
      "source": [
        "## **Меры центральной тенденции**"
      ],
      "metadata": {
        "id": "sHgFG9LGBQmu"
      }
    },
    {
      "cell_type": "markdown",
      "source": [
        "Рассчитаем меры центральной тенденции для основных переменных:"
      ],
      "metadata": {
        "id": "oL_eCEpA6yEO"
      }
    },
    {
      "cell_type": "code",
      "source": [
        "cdata.columns"
      ],
      "metadata": {
        "id": "a--cgjgu66AC",
        "colab": {
          "base_uri": "https://localhost:8080/"
        },
        "outputId": "51fd1ec5-51b0-433e-f5ab-fb445dd9c7f0"
      },
      "execution_count": null,
      "outputs": [
        {
          "output_type": "execute_result",
          "data": {
            "text/plain": [
              "Index(['User_ID', 'Gender', 'Age', 'Location', 'Verification',\n",
              "       'Sexual_orientation', 'Sexual_polarity', 'Looking_for', 'Points_Rank',\n",
              "       'Last_login', 'Member_since', 'Number_of_Comments_in_public_forum',\n",
              "       'Time_spent_chating_H:M', 'Number_of_advertisments_posted',\n",
              "       'Number_of_offline_meetings_attended', 'Profile_pictures',\n",
              "       'Friends_ID_list', 'Risk'],\n",
              "      dtype='object')"
            ]
          },
          "metadata": {},
          "execution_count": 24
        }
      ]
    },
    {
      "cell_type": "code",
      "source": [
        "clmns = ['User_ID', 'Gender', 'Age', 'Location', 'Verification',\n",
        "       'Sexual_orientation', 'Sexual_polarity', 'Looking_for', 'Points_Rank',\n",
        "       'Last_login', 'Member_since', 'Number_of_Comments_in_public_forum',\n",
        "       'Time_spent_chating_H:M', 'Number_of_advertisments_posted',\n",
        "       'Number_of_offline_meetings_attended', 'Profile_pictures',\n",
        "       'Friends_ID_list', 'Risk']"
      ],
      "metadata": {
        "id": "nkNHyuXy_Heb"
      },
      "execution_count": null,
      "outputs": []
    },
    {
      "cell_type": "code",
      "source": [
        "cdata['User_ID'].mode()"
      ],
      "metadata": {
        "colab": {
          "base_uri": "https://localhost:8080/"
        },
        "id": "uFJDrOaX_LTn",
        "outputId": "6b8c0ee5-2ef0-4a83-acb2-8a8e02263746"
      },
      "execution_count": null,
      "outputs": [
        {
          "output_type": "execute_result",
          "data": {
            "text/plain": [
              "0      2035.0\n",
              "1      2589.0\n",
              "2      2773.0\n",
              "3      3212.0\n",
              "4      4349.0\n",
              "       ...   \n",
              "63    48026.0\n",
              "64    48232.0\n",
              "65    48326.0\n",
              "66    48438.0\n",
              "67    48490.0\n",
              "Length: 68, dtype: float64"
            ]
          },
          "metadata": {},
          "execution_count": 35
        }
      ]
    }
  ]
}